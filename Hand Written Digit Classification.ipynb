{
 "cells": [
  {
   "cell_type": "code",
   "execution_count": 1,
   "metadata": {},
   "outputs": [
    {
     "name": "stderr",
     "output_type": "stream",
     "text": [
      "C:\\Anaconda\\lib\\site-packages\\h5py\\__init__.py:36: FutureWarning: Conversion of the second argument of issubdtype from `float` to `np.floating` is deprecated. In future, it will be treated as `np.float64 == np.dtype(float).type`.\n",
      "  from ._conv import register_converters as _register_converters\n"
     ]
    }
   ],
   "source": [
    "import numpy as np\n",
    "from tensorflow import keras\n",
    "from tensorflow.keras.layers import Activation,Flatten,Dense,Conv2D,MaxPooling2D\n",
    "from tensorflow.keras import Sequential\n",
    "from tensorflow.keras.datasets import mnist\n",
    "import matplotlib.pyplot as plt\n",
    "import cv2\n",
    "import time\n",
    "import os"
   ]
  },
  {
   "cell_type": "code",
   "execution_count": 2,
   "metadata": {
    "scrolled": true
   },
   "outputs": [],
   "source": [
    "def predict_images(network,model):\n",
    "    img_arr = cv2.imread(\"test.png\",cv2.IMREAD_GRAYSCALE)\n",
    "    img_arr = img_arr/255.0\n",
    "    if(network == 1):\n",
    "        reshaped_img = img_arr.reshape(-1,28,28)\n",
    "    elif(network == 2):\n",
    "        reshaped_img = img_arr.reshape(-1,28,28,1)\n",
    "    predictions = model.predict([reshaped_img])\n",
    "    draw(img_arr,predictions)"
   ]
  },
  {
   "cell_type": "code",
   "execution_count": 3,
   "metadata": {},
   "outputs": [],
   "source": [
    "def build_model(hidden_layers,Neurons):\n",
    "    m = Sequential()\n",
    "    m.add(Flatten())\n",
    "    for i in range(hidden_layers):\n",
    "        m.add(Dense(Neurons[i],activation = 'relu'))\n",
    "    m.add(Dense(10, activation = 'softmax'))\n",
    "    m.compile(optimizer = 'adam', loss = 'sparse_categorical_crossentropy',metrics = ['accuracy'])\n",
    "    return m"
   ]
  },
  {
   "cell_type": "code",
   "execution_count": 4,
   "metadata": {},
   "outputs": [],
   "source": [
    "def choose_arch():\n",
    "    os.system('cls')\n",
    "    print(\"Choose your Network Architecture :\\n\\n\\tConv -- Convolutional layer\\tpool -- MaxPool layer\\tFC -- FullyConnected layer\")\n",
    "    print(\"\\n1) Conv(128,3x3) --> pool(2,2) --> Flatten --> FC(128) --> Output(10)\")\n",
    "    print(\"\\n2) Conv(128,3x3) --> pool(2,2) --> Conv(64,3x3) --> pool(2,2) --> Flatten --> FC(128) --> Output(10)\")\n",
    "    print(\"\\n3) Conv(128,5x5) --> pool(2,2) --> Conv(256,5x5) --> Conv(512,5x5) --> pool(2,2) --> Flatten --> FC(256) --> Output(10)\")\n",
    "    return int(input(\"\\n\\nEnter your choice : \"))"
   ]
  },
  {
   "cell_type": "code",
   "execution_count": 5,
   "metadata": {},
   "outputs": [],
   "source": [
    "def build_cnn_model():\n",
    "    c = choose_arch()\n",
    "    if(c==1):\n",
    "        m = Sequential()\n",
    "        m.add(Conv2D(128,(3,3),activation='relu'))\n",
    "        m.add(MaxPooling2D(2,2))\n",
    "        m.add(Flatten())\n",
    "        m.add(Activation('relu'))\n",
    "        m.add(Dense(128,activation='relu'))\n",
    "        m.add(Dense(10,activation = 'softmax'))\n",
    "    elif(c==2):\n",
    "        m = Sequential()\n",
    "        m.add(Conv2D(128,(3,3),activation='relu'))\n",
    "        m.add(MaxPooling2D(2,2))\n",
    "        m.add(Conv2D(64,(3,3),activation='relu'))\n",
    "        m.add(MaxPooling2D(2,2))\n",
    "        m.add(Flatten())\n",
    "        m.add(Activation('relu'))\n",
    "        m.add(Dense(128,activation='relu'))\n",
    "        m.add(Dense(10,activation = 'softmax'))\n",
    "    elif(c==3):\n",
    "        m = Sequential()\n",
    "        m.add(Conv2D(128,(5,5),activation='relu'))\n",
    "        m.add(MaxPooling2D(2,2))\n",
    "        m.add(Conv2D(256,(5,5),activation='relu'))\n",
    "        m.add(Conv2D(512,(5,5),activation='relu'))\n",
    "        m.add(MaxPooling2D(2,2))\n",
    "        m.add(Flatten())\n",
    "        m.add(Activation('relu'))\n",
    "        m.add(Dense(128,activation='relu'))\n",
    "        m.add(Dense(10,activation = 'softmax'))\n",
    "    else:\n",
    "        print(\"Invalid Choice, Rolling back in a moment\")\n",
    "        build_cnn_model()\n",
    "\n",
    "    m.compile(optimizer = 'adam', loss = 'sparse_categorical_crossentropy',metrics = ['accuracy'])\n",
    "    return m"
   ]
  },
  {
   "cell_type": "code",
   "execution_count": 6,
   "metadata": {},
   "outputs": [],
   "source": [
    "def train(choice,h_layers=None,neurons=None,b_size=None,eps=None):\n",
    "    if(choice == 1):\n",
    "        model = build_model(h_layers,neurons)\n",
    "        print(\"\\nLoading dataset...\")\n",
    "        (X_train,y_train),(X_test,y_test) = mnist.load_data()\n",
    "        print(\"\\nLoading dataset Successful...\")\n",
    "        print(\"\\nNormalizing data...\")\n",
    "        X_train = X_train/255.0\n",
    "        X_test = X_test/255.0\n",
    "        print(\"\\nNormalizing data Successful...\")\n",
    "        input(\"\\nPress any key to start training your model...\")\n",
    "        os.system('cls')\n",
    "        print(\"Training your model with : \\nHidden Layers : \",h_layers,\"\\nNeurons : ,\",neurons,\"\\nBatch Size : \",b_size,\"\\nEpochs : \",eps,\"\\n\")\n",
    "        model.fit(X_train,y_train,batch_size = b_size, epochs = eps, validation_data = (X_test,y_test))\n",
    "        time.sleep(3)\n",
    "        os.system('cls')\n",
    "        print(\"Model training Successful,Your Model Details\")\n",
    "        print(\"\\nModel trained on \",len(X_train),\" Samples and tested on \",len(X_test),\" Samples\");\n",
    "        print(\"\\nModel Testing Accuracy : \", model.evaluate(X_test,y_test)[1])\n",
    "        print(\"\\nModel Summary :\")\n",
    "        print(model.summary())\n",
    "        input(\"\\nPress any key to continue...(Your trained model will be saved automatically...)\")\n",
    "        print(\"\\nSaving your model...\")\n",
    "        model.save('DIGIT.model')\n",
    "    else:\n",
    "        model = build_cnn_model()\n",
    "        print(\"\\nLoading dataset...\")\n",
    "        (X_train,y_train),(X_test,y_test) = mnist.load_data()\n",
    "        print(\"\\nLoading dataset Successful...\")\n",
    "        print(\"\\nNormalizing data...\")\n",
    "        X_train = X_train/255.0\n",
    "        X_test = X_test/255.0\n",
    "        print(\"\\nNormalizing data Successful...\")\n",
    "        print(\"\\nConverting the input Image into Volume...\")\n",
    "        X_train = X_train.reshape(-1,28,28,1)\n",
    "        X_test = X_test.reshape(-1,28,28,1)\n",
    "        print(\"\\nConvertion Successful...\")\n",
    "        input(\"\\nPress any key to start training your model...\")\n",
    "        os.system('cls')\n",
    "        model.fit(X_train,y_train,batch_size = b_size, epochs = eps, validation_data = (X_test,y_test))\n",
    "        time.sleep(3)\n",
    "        os.system('cls')\n",
    "        print(\"Model training Successful,Your Model Details\")\n",
    "        print(\"\\nModel trained on \",len(X_train),\" Samples and tested on \",len(X_test),\" Samples\");\n",
    "        print(\"\\nModel Testing Accuracy : \", model.evaluate(X_test,y_test)[1])\n",
    "        print(\"\\nModel Summary :\")\n",
    "        print(model.summary())\n",
    "        input(\"\\nPress any key to continue...(Your trained model will be saved automatically...)\")\n",
    "        print(\"\\nSaving your model...\")\n",
    "        model.save('DIGIT_CNN.model')"
   ]
  },
  {
   "cell_type": "code",
   "execution_count": 7,
   "metadata": {},
   "outputs": [],
   "source": [
    "def draw(img,prediction):\n",
    "    ax1 = plt.subplot2grid((4,4),(0,0),rowspan = 1, colspan = 4)\n",
    "    ax2 = plt.subplot2grid((4,4),(1,0),rowspan = 3, colspan = 4)\n",
    "    ax1.imshow(img,cmap = plt.cm.binary)\n",
    "    ax2.bar(range(10),prediction[0])\n",
    "    ax1.set_xticks([])\n",
    "    ax1.set_yticks([])\n",
    "    ax2.set_xticks(range(10))\n",
    "    ax2.set_yticks([0.0,0.2,0.4,0.6,0.8,1.0])\n",
    "    plt.show()"
   ]
  },
  {
   "cell_type": "code",
   "execution_count": 8,
   "metadata": {
    "scrolled": false
   },
   "outputs": [],
   "source": [
    "def main():\n",
    "    os.system('cls')\n",
    "    use_network = int(input(\"Select your model :\\n\\t1.Deep Neural Network\\n\\t2.Convolutional Neural Network\\n\\nplease choose your desired model : \"))\n",
    "    if(use_network == 1):\n",
    "        if(os.path.isfile('DIGIT.model')):\n",
    "            model = keras.models.load_model('DIGIT.model')\n",
    "            predict_images(use_network,model)\n",
    "        else:\n",
    "            try :\n",
    "                print(\"\\nIt seems you didn't trained your model yet...\\nEntering model training phase...\")\n",
    "                hidden_layers = int(input(\"\\nEnter No. of hidden_layers in your Network : \"))\n",
    "                Neurons = []\n",
    "                for i in range(hidden_layers):\n",
    "                    print(\"\\nEnter No of Neurons in Hidden Layer \",(i+1),\" : \",end=\"\")\n",
    "                    Neurons.append(int(input()))\n",
    "                e = int(input(\"\\nEnter No. of epochs (Best 100 Unless you have a large dataset) : \"))\n",
    "                b = int(input(\"\\nEnter the batch_size (Best 32 Unless you have a large dataset) : \"))\n",
    "                train(1,h_layers = hidden_layers, neurons = Neurons,b_size = b, eps = e)\n",
    "            except :\n",
    "                print(\"Something went worng. Enter data correctly...\\nExiting...\")\n",
    "                exit()\n",
    "    elif(use_network == 2):\n",
    "        if(os.path.isfile('DIGIT_CNN.model')):\n",
    "            model = keras.models.load_model('DIGIT_CNN.model')\n",
    "            predict_images(use_network,model)\n",
    "        else:\n",
    "            try :\n",
    "                print(\"\\nIt seems you didn't trained your model yet...\\nEntering model training phase...\")\n",
    "                e = int(input(\"\\nEnter No. of epochs (Best 100 Unless you have a large dataset) : \"))\n",
    "                b = int(input(\"\\nEnter the batch_size (Best 32 Unless you have a large dataset) : \"))\n",
    "                train(2,b_size = b, eps = e)\n",
    "            except :\n",
    "                print(\"Something went worng. Enter data correctly...\\nExiting...\")\n",
    "                exit()\n",
    "    else:\n",
    "        print(\"Invalid Input, Rolling back in a moment\")\n",
    "        time.sleep(2)\n",
    "        main()"
   ]
  },
  {
   "cell_type": "code",
   "execution_count": null,
   "metadata": {},
   "outputs": [],
   "source": [
    "main()"
   ]
  }
 ],
 "metadata": {
  "kernelspec": {
   "display_name": "Python 3",
   "language": "python",
   "name": "python3"
  },
  "language_info": {
   "codemirror_mode": {
    "name": "ipython",
    "version": 3
   },
   "file_extension": ".py",
   "mimetype": "text/x-python",
   "name": "python",
   "nbconvert_exporter": "python",
   "pygments_lexer": "ipython3",
   "version": "3.6.5"
  }
 },
 "nbformat": 4,
 "nbformat_minor": 2
}
