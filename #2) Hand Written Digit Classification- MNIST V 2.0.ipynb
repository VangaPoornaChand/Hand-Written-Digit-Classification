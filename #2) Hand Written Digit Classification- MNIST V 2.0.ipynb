{
 "cells": [
  {
   "cell_type": "code",
   "execution_count": 1,
   "metadata": {
    "scrolled": true
   },
   "outputs": [
    {
     "name": "stderr",
     "output_type": "stream",
     "text": [
      "C:\\Anaconda\\lib\\site-packages\\h5py\\__init__.py:36: FutureWarning: Conversion of the second argument of issubdtype from `float` to `np.floating` is deprecated. In future, it will be treated as `np.float64 == np.dtype(float).type`.\n",
      "  from ._conv import register_converters as _register_converters\n",
      "Using TensorFlow backend.\n"
     ]
    }
   ],
   "source": [
    "import numpy as np\n",
    "import pandas as pd\n",
    "from keras.datasets import mnist\n",
    "import matplotlib.pyplot as plt\n",
    "from keras import Sequential\n",
    "from keras.layers import Dense, Dropout,Conv2D,Flatten,MaxPooling2D\n",
    "from keras.optimizers import Adam\n",
    "from keras.utils import to_categorical\n",
    "import pickle"
   ]
  },
  {
   "cell_type": "code",
   "execution_count": 2,
   "metadata": {},
   "outputs": [],
   "source": [
    "(x_train, y_train), (x_test, y_test) = mnist.load_data()"
   ]
  },
  {
   "cell_type": "code",
   "execution_count": 3,
   "metadata": {
    "scrolled": true
   },
   "outputs": [],
   "source": [
    "x_train = x_train/255\n",
    "x_test = x_test/255\n",
    "x_train = x_train.reshape(60000, 28, 28, 1)\n",
    "x_test = x_test.reshape(x_test.shape[0],28,28,1)\n",
    "y_train = to_categorical(y_train)\n",
    "y_test_true = np.copy(y_test)\n",
    "y_test = to_categorical(y_test)"
   ]
  },
  {
   "cell_type": "code",
   "execution_count": 4,
   "metadata": {},
   "outputs": [],
   "source": [
    "def build_model():\n",
    "    model = Sequential()\n",
    "    model.add(Conv2D(filters=32, kernel_size=(3,3), activation='relu', padding='same',\n",
    "                     input_shape=(28, 28, 1)))\n",
    "    model.add(MaxPooling2D(pool_size=(2,2)))\n",
    "    \n",
    "    \n",
    "    model.add(Conv2D(filters=64, kernel_size=(3,3), activation='relu', padding='same'))\n",
    "    model.add(MaxPooling2D(pool_size=(2,2)))\n",
    "    \n",
    "    \n",
    "    model.add(Conv2D(filters=64, kernel_size=(3,3), activation='relu', padding='same'))\n",
    "    model.add(MaxPooling2D(pool_size=(2,2)))\n",
    "    \n",
    "    model.add(Dropout(0.5))\n",
    "    \n",
    "    model.add(Flatten())\n",
    "    model.add(Dense(10, activation='softmax'))\n",
    "    \n",
    "    model.compile(optimizer=Adam(lr=0.001), loss='categorical_crossentropy', metrics=['accuracy'])\n",
    "    return model"
   ]
  },
  {
   "cell_type": "code",
   "execution_count": 5,
   "metadata": {
    "scrolled": false
   },
   "outputs": [
    {
     "name": "stdout",
     "output_type": "stream",
     "text": [
      "Train on 48000 samples, validate on 12000 samples\n",
      "Epoch 1/15\n",
      "48000/48000 [==============================] - 18s 382us/step - loss: 0.3169 - acc: 0.8988 - val_loss: 0.0630 - val_acc: 0.9804\n",
      "Epoch 2/15\n",
      "48000/48000 [==============================] - 15s 312us/step - loss: 0.0952 - acc: 0.9699 - val_loss: 0.0475 - val_acc: 0.9864\n",
      "Epoch 3/15\n",
      "48000/48000 [==============================] - 15s 313us/step - loss: 0.0715 - acc: 0.9773 - val_loss: 0.0362 - val_acc: 0.9900\n",
      "Epoch 4/15\n",
      "48000/48000 [==============================] - 15s 312us/step - loss: 0.0596 - acc: 0.9808 - val_loss: 0.0409 - val_acc: 0.9872\n",
      "Epoch 5/15\n",
      "48000/48000 [==============================] - 15s 313us/step - loss: 0.0523 - acc: 0.9838 - val_loss: 0.0342 - val_acc: 0.9889\n",
      "Epoch 6/15\n",
      "48000/48000 [==============================] - 15s 316us/step - loss: 0.0446 - acc: 0.9859 - val_loss: 0.0302 - val_acc: 0.9908\n",
      "Epoch 7/15\n",
      "48000/48000 [==============================] - 15s 321us/step - loss: 0.0406 - acc: 0.9866 - val_loss: 0.0281 - val_acc: 0.9912\n",
      "Epoch 8/15\n",
      "48000/48000 [==============================] - 15s 316us/step - loss: 0.0383 - acc: 0.9878 - val_loss: 0.0294 - val_acc: 0.9916\n",
      "Epoch 9/15\n",
      "48000/48000 [==============================] - 15s 317us/step - loss: 0.0351 - acc: 0.9886 - val_loss: 0.0271 - val_acc: 0.9919\n",
      "Epoch 10/15\n",
      "48000/48000 [==============================] - 15s 317us/step - loss: 0.0312 - acc: 0.9898 - val_loss: 0.0272 - val_acc: 0.9925\n",
      "Epoch 11/15\n",
      "48000/48000 [==============================] - 15s 323us/step - loss: 0.0286 - acc: 0.9904 - val_loss: 0.0307 - val_acc: 0.9908\n",
      "Epoch 12/15\n",
      "48000/48000 [==============================] - 15s 318us/step - loss: 0.0281 - acc: 0.9908 - val_loss: 0.0261 - val_acc: 0.9920\n",
      "Epoch 13/15\n",
      "48000/48000 [==============================] - 15s 316us/step - loss: 0.0236 - acc: 0.9927 - val_loss: 0.0265 - val_acc: 0.9922\n",
      "Epoch 14/15\n",
      "48000/48000 [==============================] - 15s 315us/step - loss: 0.0241 - acc: 0.9918 - val_loss: 0.0260 - val_acc: 0.9924\n",
      "Epoch 15/15\n",
      "48000/48000 [==============================] - 15s 318us/step - loss: 0.0213 - acc: 0.9928 - val_loss: 0.0270 - val_acc: 0.9927\n"
     ]
    }
   ],
   "source": [
    "model = build_model()\n",
    "log = model.fit(x_train,y_train,epochs=15,batch_size=64,shuffle=True,validation_split=0.2)"
   ]
  },
  {
   "cell_type": "code",
   "execution_count": 7,
   "metadata": {},
   "outputs": [
    {
     "data": {
      "text/plain": [
       "<matplotlib.legend.Legend at 0x1a2bb2a84e0>"
      ]
     },
     "execution_count": 7,
     "metadata": {},
     "output_type": "execute_result"
    },
    {
     "data": {
      "image/png": "[encoded data removed]",
      "text/plain": [
       "<Figure size 432x288 with 1 Axes>"
      ]
     },
     "metadata": {},
     "output_type": "display_data"
    }
   ],
   "source": [
    "plt.plot(log.history['loss'])\n",
    "plt.plot(log.history['val_loss'])\n",
    "plt.xticks(range(16))\n",
    "plt.yticks(np.linspace(0.3,0,5))\n",
    "plt.title(\"Loss\")\n",
    "plt.xlabel(\"Epochs\")\n",
    "plt.ylabel(\"Loss\")\n",
    "plt.legend(['Training Loss','Validation Loss'])"
   ]
  },
  {
   "cell_type": "code",
   "execution_count": 8,
   "metadata": {
    "scrolled": true
   },
   "outputs": [
    {
     "data": {
      "text/plain": [
       "<matplotlib.legend.Legend at 0x1a2c6424940>"
      ]
     },
     "execution_count": 8,
     "metadata": {},
     "output_type": "execute_result"
    },
    {
     "data": {
      "image/png": "[encoded data removed]",
      "text/plain": [
       "<Figure size 432x288 with 1 Axes>"
      ]
     },
     "metadata": {},
     "output_type": "display_data"
    }
   ],
   "source": [
    "plt.plot(log.history['acc'])\n",
    "plt.plot(log.history['val_acc'])\n",
    "plt.xticks(range(16))\n",
    "plt.yticks(np.linspace(0.9,1,5))\n",
    "plt.title(\"Accuracy\")\n",
    "plt.xlabel(\"Epochs\")\n",
    "plt.ylabel(\"Accuracy\")\n",
    "plt.legend(['Training Accuracy','Validation Accuracy'])"
   ]
  },
  {
   "cell_type": "code",
   "execution_count": 9,
   "metadata": {
    "scrolled": false
   },
   "outputs": [
    {
     "name": "stdout",
     "output_type": "stream",
     "text": [
      "10000/10000 [==============================] - 2s 198us/step\n"
     ]
    },
    {
     "data": {
      "text/plain": [
       "[0.021605044037977496, 0.9934]"
      ]
     },
     "execution_count": 9,
     "metadata": {},
     "output_type": "execute_result"
    }
   ],
   "source": [
    "model.evaluate(x_test,y_test)"
   ]
  },
  {
   "cell_type": "code",
   "execution_count": 10,
   "metadata": {},
   "outputs": [],
   "source": [
    "# from keras.models import load_model\n",
    "# model = load_model('MNIST.h5')\n",
    "# pickle.dump(model,open('mnist.pkl','wb'))\n",
    "# model = pickle.load(open('mnist.pkl','rb'))"
   ]
  },
  {
   "cell_type": "code",
   "execution_count": 11,
   "metadata": {},
   "outputs": [],
   "source": [
    "predictions = model.predict(x_test)"
   ]
  },
  {
   "cell_type": "code",
   "execution_count": 12,
   "metadata": {
    "scrolled": true
   },
   "outputs": [
    {
     "data": {
      "text/plain": [
       "<matplotlib.image.AxesImage at 0x1a2c6dcc6d8>"
      ]
     },
     "execution_count": 12,
     "metadata": {},
     "output_type": "execute_result"
    },
    {
     "data": {
      "image/png": "[encoded data removed]",
      "text/plain": [
       "<Figure size 1080x360 with 2 Axes>"
      ]
     },
     "metadata": {},
     "output_type": "display_data"
    }
   ],
   "source": [
    "r = np.random.randint(0,len(x_test)-1)\n",
    "fig, ax = plt.subplots(1,2,figsize=(15,5))\n",
    "ax[0].bar([0,1,2,3,4,5,6,7,8,9],predictions[r])\n",
    "ax[0].set_xticks([0,1,2,3,4,5,6,7,8,9])\n",
    "ax[0].set_title(\"Prediction: \"+str(np.argmax(predictions[r])))\n",
    "ax[1].imshow(x_test[r].reshape(28,28))"
   ]
  },
  {
   "cell_type": "code",
   "execution_count": 13,
   "metadata": {},
   "outputs": [],
   "source": [
    "x_test = x_test.reshape(10000,28,28)\n",
    "Y_pred_class = []\n",
    "X_Image = []\n",
    "for image,prediction in zip(x_test,predictions):\n",
    "    Y_pred_class.append(np.argmax(prediction))\n",
    "    X_Image.append(image)\n",
    "df = pd.DataFrame()\n",
    "df[\"True\"] = y_test_true\n",
    "df[\"Predicted\"] = Y_pred_class\n",
    "df[\"Image\"] = X_Image\n",
    "Error_Images = df[[\"Image\",\"True\",\"Predicted\"]][df[\"True\"]!=df[\"Predicted\"]]"
   ]
  },
  {
   "cell_type": "code",
   "execution_count": 14,
   "metadata": {},
   "outputs": [
    {
     "data": {
      "text/html": [
       "<div>\n",
       "<style scoped>\n",
       "    .dataframe tbody tr th:only-of-type {\n",
       "        vertical-align: middle;\n",
       "    }\n",
       "\n",
       "    .dataframe tbody tr th {\n",
       "        vertical-align: top;\n",
       "    }\n",
       "\n",
       "    .dataframe thead th {\n",
       "        text-align: right;\n",
       "    }\n",
       "</style>\n",
       "<table border=\"1\" class=\"dataframe\">\n",
       "  <thead>\n",
       "    <tr style=\"text-align: right;\">\n",
       "      <th></th>\n",
       "      <th>Image</th>\n",
       "      <th>True</th>\n",
       "      <th>Predicted</th>\n",
       "    </tr>\n",
       "  </thead>\n",
       "  <tbody>\n",
       "    <tr>\n",
       "      <th>445</th>\n",
       "      <td>[[0.0, 0.0, 0.0, 0.0, 0.0, 0.0, 0.0, 0.0, 0.0,...</td>\n",
       "      <td>6</td>\n",
       "      <td>0</td>\n",
       "    </tr>\n",
       "    <tr>\n",
       "      <th>625</th>\n",
       "      <td>[[0.0, 0.0, 0.0, 0.0, 0.0, 0.0, 0.0, 0.0, 0.0,...</td>\n",
       "      <td>6</td>\n",
       "      <td>4</td>\n",
       "    </tr>\n",
       "    <tr>\n",
       "      <th>646</th>\n",
       "      <td>[[0.0, 0.0, 0.0, 0.0, 0.0, 0.0, 0.0, 0.0, 0.0,...</td>\n",
       "      <td>2</td>\n",
       "      <td>4</td>\n",
       "    </tr>\n",
       "    <tr>\n",
       "      <th>846</th>\n",
       "      <td>[[0.0, 0.0, 0.0, 0.0, 0.0, 0.0, 0.0, 0.0, 0.0,...</td>\n",
       "      <td>7</td>\n",
       "      <td>9</td>\n",
       "    </tr>\n",
       "    <tr>\n",
       "      <th>938</th>\n",
       "      <td>[[0.0, 0.0, 0.0, 0.0, 0.0, 0.0, 0.0, 0.0, 0.0,...</td>\n",
       "      <td>3</td>\n",
       "      <td>5</td>\n",
       "    </tr>\n",
       "  </tbody>\n",
       "</table>\n",
       "</div>"
      ],
      "text/plain": [
       "                                                 Image  True  Predicted\n",
       "445  [[0.0, 0.0, 0.0, 0.0, 0.0, 0.0, 0.0, 0.0, 0.0,...     6          0\n",
       "625  [[0.0, 0.0, 0.0, 0.0, 0.0, 0.0, 0.0, 0.0, 0.0,...     6          4\n",
       "646  [[0.0, 0.0, 0.0, 0.0, 0.0, 0.0, 0.0, 0.0, 0.0,...     2          4\n",
       "846  [[0.0, 0.0, 0.0, 0.0, 0.0, 0.0, 0.0, 0.0, 0.0,...     7          9\n",
       "938  [[0.0, 0.0, 0.0, 0.0, 0.0, 0.0, 0.0, 0.0, 0.0,...     3          5"
      ]
     },
     "execution_count": 14,
     "metadata": {},
     "output_type": "execute_result"
    }
   ],
   "source": [
    "Error_Images.head()"
   ]
  },
  {
   "cell_type": "code",
   "execution_count": 16,
   "metadata": {
    "scrolled": true
   },
   "outputs": [
    {
     "data": {
      "image/png": "[encoded data removed]",
      "text/plain": [
       "<Figure size 1080x360 with 10 Axes>"
      ]
     },
     "metadata": {},
     "output_type": "display_data"
    }
   ],
   "source": [
    "Error_Images_array = np.array(Error_Images[\"Image\"])\n",
    "fig,ax = plt.subplots(2,5,figsize=(15,5))\n",
    "for i in range(2):\n",
    "    for j in range(5):\n",
    "        r = np.random.randint(0,len(Error_Images)-1)\n",
    "        ax[i][j].imshow(Error_Images_array[r])\n",
    "        ax[i][j].set_title(\"Predicted:\"+str(np.array(Error_Images[\"Predicted\"])[r])+\"\\nTrue:\"+str(np.array(Error_Images[\"True\"])[r]))\n",
    "plt.tight_layout()"
   ]
  },
  {
   "cell_type": "code",
   "execution_count": null,
   "metadata": {},
   "outputs": [],
   "source": []
  }
 ],
 "metadata": {
  "kernelspec": {
   "display_name": "Python 3",
   "language": "python",
   "name": "python3"
  },
  "language_info": {
   "codemirror_mode": {
    "name": "ipython",
    "version": 3
   },
   "file_extension": ".py",
   "mimetype": "text/x-python",
   "name": "python",
   "nbconvert_exporter": "python",
   "pygments_lexer": "ipython3",
   "version": "3.6.5"
  }
 },
 "nbformat": 4,
 "nbformat_minor": 2
}
